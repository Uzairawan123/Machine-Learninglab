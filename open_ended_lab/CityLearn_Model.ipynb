{
 "cells": [
  {
   "cell_type": "code",
   "execution_count": 1,
   "id": "29cef70d",
   "metadata": {},
   "outputs": [],
   "source": [
    "import os\n",
    "os.chdir(r'G:\\Uzair_OpenEnded') \n",
    "from stlf_torch_kit import  DataLoadeing\n",
    "import torch\n",
    "import pandas as pd\n",
    "import numpy as np\n",
    "import pickle, time\n",
    "from stlf_torch_kit import univariate_multi_step\n",
    "from stlf_torch_kit import SaveBestModel, PlotLossCurves, LoadModel, train, TestModel, BatchGenerator, results\n",
    "import torch.nn as nn\n",
    "import torch.optim as optim\n",
    "from torchinfo import summary"
   ]
  },
  {
   "cell_type": "markdown",
   "id": "6bc31f46",
   "metadata": {},
   "source": [
    "# Data Loading"
   ]
  },
  {
   "cell_type": "code",
   "execution_count": 4,
   "id": "4b2a9dfb",
   "metadata": {},
   "outputs": [
    {
     "data": {
      "text/plain": [
       "((6132, 29), (1752, 29), (876, 29))"
      ]
     },
     "execution_count": 4,
     "metadata": {},
     "output_type": "execute_result"
    }
   ],
   "source": [
    "import os\n",
    "path_dataset =r'G:\\Uzair_OpenEnded\\Dataset'\n",
    "path_tr = os.path.join(path_dataset, 'CityLearn_train.csv')\n",
    "df_tr = pd.read_csv(path_tr)\n",
    "train_set = df_tr.iloc[:].values\n",
    "path_v = os.path.join(path_dataset, 'CityLearn_validation.csv')\n",
    "df_v = pd.read_csv(path_v)\n",
    "validation_set = df_v.iloc[:].values \n",
    "path_te = os.path.join(path_dataset, 'Citylearn_test.csv')\n",
    "df_te = pd.read_csv(path_te)\n",
    "test_set = df_te.iloc[:].values \n",
    "\n",
    "path_scaler = os.path.join(path_dataset, 'Scaler.pkl')\n",
    "scaler         = pickle.load(open(path_scaler, 'rb'))\n",
    "\n",
    "train_set.shape, validation_set.shape, test_set.shape"
   ]
  },
  {
   "cell_type": "code",
   "execution_count": 5,
   "id": "293ad9eb",
   "metadata": {},
   "outputs": [
    {
     "name": "stdout",
     "output_type": "stream",
     "text": [
      "Time Consumed 0.0746457576751709 sec\n"
     ]
    }
   ],
   "source": [
    "#time_steps=24 #look back or sequence length, lag, window size #Edit\n",
    "time_steps = 24\n",
    "target_len = 1 #how much steps do you wana forecast #Edit\n",
    "start = time.time()\n",
    "train_X , train_y = univariate_multi_step(train_set, time_steps, target_col=0,target_len=target_len)\n",
    "validation_X, validation_y = univariate_multi_step(validation_set, time_steps, target_col=0,target_len=target_len)\n",
    "test_X, test_y = univariate_multi_step(test_set, time_steps, target_col=0,target_len=target_len)\n",
    "print('Time Consumed', time.time()-start, \"sec\")"
   ]
  },
  {
   "cell_type": "code",
   "execution_count": 4,
   "id": "dc241223",
   "metadata": {},
   "outputs": [
    {
     "data": {
      "text/plain": [
       "(851, 24, 29)"
      ]
     },
     "execution_count": 4,
     "metadata": {},
     "output_type": "execute_result"
    }
   ],
   "source": [
    "test_X.shape"
   ]
  },
  {
   "cell_type": "markdown",
   "id": "eb52558d",
   "metadata": {},
   "source": [
    "#### RNN_MODEL"
   ]
  },
  {
   "cell_type": "code",
   "execution_count": 6,
   "id": "1912c815",
   "metadata": {},
   "outputs": [],
   "source": [
    "class RNNModel(nn.Module):\n",
    "    def __init__(self, time_steps=24, num_features=29):\n",
    "        super(RNNModel, self).__init__()\n",
    "        \n",
    "        self.rnn1 = nn.RNN(input_size=num_features, hidden_size=8, batch_first=True)\n",
    "        self.rnn2 = nn.RNN(input_size=8, hidden_size=20, batch_first=True)\n",
    "        \n",
    "        self.flatten = nn.Flatten()\n",
    "        self.output_layer = nn.Linear(20, 1)\n",
    "\n",
    "    def forward(self, x):\n",
    "        # x shape: (batch_size, time_steps, num_features)\n",
    "        x, _ = self.rnn1(x)\n",
    "        x, _ = self.rnn2(x)\n",
    "        \n",
    "        # Take the output at the last time step (like Keras default behavior)\n",
    "        x = x[:, -1, :]  # shape: (batch_size, 20)\n",
    "        \n",
    "        x = self.flatten(x)\n",
    "        output = self.output_layer(x)\n",
    "        \n",
    "        return output"
   ]
  },
  {
   "cell_type": "code",
   "execution_count": null,
   "id": "b251ccf7",
   "metadata": {},
   "outputs": [],
   "source": []
  },
  {
   "cell_type": "markdown",
   "id": "4659def4",
   "metadata": {},
   "source": [
    "# instances"
   ]
  },
  {
   "cell_type": "code",
   "execution_count": 7,
   "id": "cf1f740d",
   "metadata": {},
   "outputs": [],
   "source": [
    "model = RNNModel()#Edit\n",
    "criterion = nn.MSELoss() #Edit, don't change\n",
    "\n",
    "save_best_model = SaveBestModel()\n",
    "Plot_Loss=PlotLossCurves()\n",
    "load_model=LoadModel()"
   ]
  },
  {
   "cell_type": "markdown",
   "id": "096a217f",
   "metadata": {},
   "source": [
    "# Learning Rate & Optimizer"
   ]
  },
  {
   "cell_type": "code",
   "execution_count": 8,
   "id": "f9867523",
   "metadata": {},
   "outputs": [],
   "source": [
    "#lr=0.001 # Edit\n",
    "#optimizer = torch.optim.Adam(model.parameters(), lr=lr) #Edit\n",
    "lr = 0.001  # Initial learning rate\n",
    "optimizer = torch.optim.Adam(model.parameters(), lr=lr)\n",
    "scheduler = torch.optim.lr_scheduler.ReduceLROnPlateau(optimizer, mode='min', factor=0.5, patience=10, verbose=True)  # Added\n"
   ]
  },
  {
   "cell_type": "markdown",
   "id": "c0b55ecf",
   "metadata": {},
   "source": [
    "# Check Device"
   ]
  },
  {
   "cell_type": "code",
   "execution_count": 9,
   "id": "53206b91",
   "metadata": {},
   "outputs": [
    {
     "name": "stdout",
     "output_type": "stream",
     "text": [
      "Model is on device: cpu\n"
     ]
    }
   ],
   "source": [
    "def get_model_device(model):\n",
    "    return next(model.parameters()).device\n",
    "device = get_model_device(model)\n",
    "print(\"Model is on device:\", device)"
   ]
  },
  {
   "cell_type": "markdown",
   "id": "f8fafebb",
   "metadata": {},
   "source": [
    "# Training"
   ]
  },
  {
   "cell_type": "markdown",
   "id": "d0aa963e",
   "metadata": {},
   "source": [
    "#### Path & other Stuffs"
   ]
  },
  {
   "cell_type": "code",
   "execution_count": 11,
   "id": "3924df93",
   "metadata": {},
   "outputs": [],
   "source": [
    "start_epoch = 1\n",
    "num_epochs = 20 #Edit\n",
    "best_model_path=r'G:\\Uzair_OpenEnded\\chk'+str('\\\\') #Edit\n",
    "fig_path=r'G:\\Uzair_OpenEnded\\chk' #Edit\n",
    "train_data_loader, validation_data_loader, test_data_loader = DataLoadeing(train_X ,\n",
    "                                                                           train_y, \n",
    "                                                                           validation_X, \n",
    "                                                                           validation_y, \n",
    "                                                                           test_X, \n",
    "                                                                           test_y, \n",
    "                                                                           batch_size=32) #Batch_Size Edit"
   ]
  },
  {
   "cell_type": "markdown",
   "id": "f460874b",
   "metadata": {},
   "source": [
    "#### Instances"
   ]
  },
  {
   "cell_type": "code",
   "execution_count": 12,
   "id": "2b17e610",
   "metadata": {},
   "outputs": [],
   "source": [
    "criterion = nn.MSELoss() # Edit, for Now Don't  Change\n",
    "\n",
    "criterion_mae = nn.L1Loss()\n",
    "\n",
    "save_best_model = SaveBestModel()\n",
    "Plot_Loss=PlotLossCurves()\n",
    "load_model=LoadModel()"
   ]
  },
  {
   "cell_type": "markdown",
   "id": "566bee91",
   "metadata": {},
   "source": [
    "#### Training Loop"
   ]
  },
  {
   "cell_type": "code",
   "execution_count": 13,
   "id": "b37aa742",
   "metadata": {
    "scrolled": true
   },
   "outputs": [
    {
     "name": "stdout",
     "output_type": "stream",
     "text": [
      "Epoch [1/20], Step [191/191], Training Loss: 0.0532\n",
      "Epoch [1/20], Step [54/54], Val Loss: 0.0469\n",
      "\n",
      "Saving best model for epoch: 1\n",
      " at G:\\Uzair_OpenEnded\\chk\\1best_model.pth\n",
      "Epoch [2/20], Step [191/191], Training Loss: 0.0421\n",
      "Epoch [2/20], Step [54/54], Val Loss: 0.0454\n",
      "\n",
      "Saving best model for epoch: 2\n",
      " at G:\\Uzair_OpenEnded\\chk\\2best_model.pth\n",
      "Epoch [3/20], Step [191/191], Training Loss: 0.0401\n",
      "Epoch [3/20], Step [54/54], Val Loss: 0.0439\n",
      "\n",
      "Saving best model for epoch: 3\n",
      " at G:\\Uzair_OpenEnded\\chk\\3best_model.pth\n",
      "Epoch [4/20], Step [191/191], Training Loss: 0.0384\n",
      "Epoch [4/20], Step [54/54], Val Loss: 0.0422\n",
      "\n",
      "Saving best model for epoch: 4\n",
      " at G:\\Uzair_OpenEnded\\chk\\4best_model.pth\n",
      "Epoch [5/20], Step [191/191], Training Loss: 0.0367\n",
      "Epoch [5/20], Step [54/54], Val Loss: 0.0400\n",
      "\n",
      "Saving best model for epoch: 5\n",
      " at G:\\Uzair_OpenEnded\\chk\\5best_model.pth\n",
      "Epoch [6/20], Step [191/191], Training Loss: 0.0346\n",
      "Epoch [6/20], Step [54/54], Val Loss: 0.0373\n",
      "\n",
      "Saving best model for epoch: 6\n",
      " at G:\\Uzair_OpenEnded\\chk\\6best_model.pth\n",
      "Epoch [7/20], Step [191/191], Training Loss: 0.0322\n",
      "Epoch [7/20], Step [54/54], Val Loss: 0.0346\n",
      "\n",
      "Saving best model for epoch: 7\n",
      " at G:\\Uzair_OpenEnded\\chk\\7best_model.pth\n",
      "Epoch [8/20], Step [191/191], Training Loss: 0.0300\n",
      "Epoch [8/20], Step [54/54], Val Loss: 0.0323\n",
      "\n",
      "Saving best model for epoch: 8\n",
      " at G:\\Uzair_OpenEnded\\chk\\8best_model.pth\n",
      "Epoch [9/20], Step [191/191], Training Loss: 0.0281\n",
      "Epoch [9/20], Step [54/54], Val Loss: 0.0304\n",
      "\n",
      "Saving best model for epoch: 9\n",
      " at G:\\Uzair_OpenEnded\\chk\\9best_model.pth\n",
      "Epoch [10/20], Step [191/191], Training Loss: 0.0267\n",
      "Epoch [10/20], Step [54/54], Val Loss: 0.0293\n",
      "\n",
      "Saving best model for epoch: 10\n",
      " at G:\\Uzair_OpenEnded\\chk\\10best_model.pth\n",
      "Epoch [11/20], Step [191/191], Training Loss: 0.0257\n",
      "Epoch [11/20], Step [54/54], Val Loss: 0.0289\n",
      "\n",
      "Saving best model for epoch: 11\n",
      " at G:\\Uzair_OpenEnded\\chk\\11best_model.pth\n",
      "Epoch [12/20], Step [191/191], Training Loss: 0.0250\n",
      "Epoch [12/20], Step [54/54], Val Loss: 0.0287\n",
      "\n",
      "Saving best model for epoch: 12\n",
      " at G:\\Uzair_OpenEnded\\chk\\12best_model.pth\n",
      "Epoch [13/20], Step [191/191], Training Loss: 0.0245\n",
      "Epoch [13/20], Step [54/54], Val Loss: 0.0285\n",
      "\n",
      "Saving best model for epoch: 13\n",
      " at G:\\Uzair_OpenEnded\\chk\\13best_model.pth\n",
      "Epoch [14/20], Step [191/191], Training Loss: 0.0242\n",
      "Epoch [14/20], Step [54/54], Val Loss: 0.0281\n",
      "\n",
      "Saving best model for epoch: 14\n",
      " at G:\\Uzair_OpenEnded\\chk\\14best_model.pth\n",
      "Epoch [15/20], Step [191/191], Training Loss: 0.0239\n",
      "Epoch [15/20], Step [54/54], Val Loss: 0.0278\n",
      "\n",
      "Saving best model for epoch: 15\n",
      " at G:\\Uzair_OpenEnded\\chk\\15best_model.pth\n",
      "Epoch [16/20], Step [191/191], Training Loss: 0.0236\n",
      "Epoch [16/20], Step [54/54], Val Loss: 0.0275\n",
      "\n",
      "Saving best model for epoch: 16\n",
      " at G:\\Uzair_OpenEnded\\chk\\16best_model.pth\n",
      "Epoch [17/20], Step [191/191], Training Loss: 0.0234\n",
      "Epoch [17/20], Step [54/54], Val Loss: 0.0273\n",
      "\n",
      "Saving best model for epoch: 17\n",
      " at G:\\Uzair_OpenEnded\\chk\\17best_model.pth\n",
      "Epoch [18/20], Step [191/191], Training Loss: 0.0233\n",
      "Epoch [18/20], Step [54/54], Val Loss: 0.0271\n",
      "\n",
      "Saving best model for epoch: 18\n",
      " at G:\\Uzair_OpenEnded\\chk\\18best_model.pth\n",
      "Epoch [19/20], Step [191/191], Training Loss: 0.0231\n",
      "Epoch [19/20], Step [54/54], Val Loss: 0.0270\n",
      "\n",
      "Saving best model for epoch: 19\n",
      " at G:\\Uzair_OpenEnded\\chk\\19best_model.pth\n",
      "Epoch [20/20], Step [191/191], Training Loss: 0.0230\n",
      "Epoch [20/20], Step [54/54], Val Loss: 0.0269\n",
      "\n",
      "Saving best model for epoch: 20\n",
      " at G:\\Uzair_OpenEnded\\chk\\20best_model.pth\n",
      "Time Consumed 39.13591909408569 sec\n"
     ]
    }
   ],
   "source": [
    "start = time.time()\n",
    "train(start_epoch,\n",
    "      num_epochs,\n",
    "      best_model_path,\n",
    "      fig_path,\n",
    "      model,criterion,optimizer,save_best_model,Plot_Loss,\n",
    "      train_data_loader,\n",
    "      validation_data_loader)\n",
    "print('Time Consumed', time.time()-start, \"sec\")"
   ]
  },
  {
   "cell_type": "markdown",
   "id": "c0c897f0",
   "metadata": {},
   "source": [
    "#### Results"
   ]
  },
  {
   "cell_type": "code",
   "execution_count": 14,
   "id": "d8e071d8",
   "metadata": {},
   "outputs": [
    {
     "name": "stdout",
     "output_type": "stream",
     "text": [
      "New lr = 0.001\n",
      "Time Consumed 0.08980703353881836 sec\n",
      "Mean Absolute Error (MAE): 0.39\n",
      "Median Absolute Error (MedAE): 0.29\n",
      "Mean Squared Error (MSE): 0.27\n",
      "Root Mean Squared Error (RMSE): 0.51\n",
      "Mean Absolute Percentage Error (MAPE): 54.78 %\n",
      "Median Absolute Percentage Error (MDAPE): 37.64 %\n",
      "\n",
      "\n",
      "y_test_unscaled.shape=  (851, 1)\n",
      "y_pred.shape=  (851, 1)\n"
     ]
    }
   ],
   "source": [
    "load_model_path=r'G:\\Uzair_OpenEnded\\chk\\20best_model.pth' # Edit\n",
    "test_model=TestModel()\n",
    "start = time.time()\n",
    "y_pred_scaled=test_model(model, test_X,load_model,load_model_path,lr)\n",
    "print('Time Consumed', time.time()-start, \"sec\")\n",
    "results(scaler, y_pred_scaled,test_y)\n",
    "\n",
    "# MAPE, MAE, RMSE"
   ]
  },
  {
   "cell_type": "code",
   "execution_count": null,
   "id": "a99cf46d",
   "metadata": {},
   "outputs": [],
   "source": []
  }
 ],
 "metadata": {
  "kernelspec": {
   "display_name": "STLF",
   "language": "python",
   "name": "python3"
  },
  "language_info": {
   "codemirror_mode": {
    "name": "ipython",
    "version": 3
   },
   "file_extension": ".py",
   "mimetype": "text/x-python",
   "name": "python",
   "nbconvert_exporter": "python",
   "pygments_lexer": "ipython3",
   "version": "3.7.7"
  }
 },
 "nbformat": 4,
 "nbformat_minor": 5
}
